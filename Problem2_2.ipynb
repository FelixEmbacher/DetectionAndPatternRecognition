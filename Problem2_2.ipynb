{
  "nbformat": 4,
  "nbformat_minor": 0,
  "metadata": {
    "colab": {
      "name": "Problem2_2.ipynb",
      "provenance": [],
      "collapsed_sections": [],
      "authorship_tag": "ABX9TyPSZgdBmebMnG1VHRG7nCQ9",
      "include_colab_link": true
    },
    "kernelspec": {
      "name": "python3",
      "display_name": "Python 3"
    }
  },
  "cells": [
    {
      "cell_type": "markdown",
      "metadata": {
        "id": "view-in-github",
        "colab_type": "text"
      },
      "source": [
        "<a href=\"https://colab.research.google.com/github/FelixEmbacher/DetectionAndPatternRecognition/blob/master/Problem2_2.ipynb\" target=\"_parent\"><img src=\"https://colab.research.google.com/assets/colab-badge.svg\" alt=\"Open In Colab\"/></a>"
      ]
    },
    {
      "cell_type": "code",
      "metadata": {
        "id": "kIou2pUxBU9v",
        "colab_type": "code",
        "colab": {
          "base_uri": "https://localhost:8080/",
          "height": 314
        },
        "outputId": "7ae31f35-c953-4161-829e-a8b4ae26d859"
      },
      "source": [
        "import matplotlib.pyplot as plt\n",
        "import random\n",
        "import numpy as np\n",
        "import math as m\n",
        "\n",
        "# Given parameters\n",
        "d = 2;\n",
        "\n",
        "mu1 = np.array([4, 6]);\n",
        "mu2 = np.array([10, 3]);\n",
        "\n",
        "sigma1 = 1\n",
        "sigma2 = 0.5;\n",
        "\n",
        "p_w1 = 0.5;\n",
        "p_w2 = 1 - p_w1;\n",
        "\n",
        "# Compute the center 'm' and the radius 'r' of the decision boundary\n",
        "nu = m.pow(sigma1,2)/m.pow(sigma2,2);\n",
        "# print(nu)\n",
        "\n",
        "# || x - m ||^2 = || R ||^2\n",
        "if sigma1==sigma2:\n",
        "  raise Exception('Sigma1 = Sigma2!') \n",
        "middle = mu2 + 1/(1-nu) * (mu1 - mu2);\n",
        "# print(middle)\n",
        "r = m.sqrt( nu / (m.pow(1-nu,2)) * m.pow(np.linalg.norm(mu1-mu2),2) - m.log(nu)/(1-nu) * m.pow(sigma1,2) * d + 1/(1-nu) * 2 * m.pow(sigma1,2) * m.log(p_w1/p_w2) );\n",
        "# compute vector 'x_circle' and 'y_circle' to plot the circle around 'm'\n",
        "ang = np.linspace(0, 2*np.pi, num=600);\n",
        "xp=r*np.cos(ang);\n",
        "yp=r*np.sin(ang);\n",
        "x_circle = middle[0] + xp;\n",
        "y_circle = middle[1] + yp;\n",
        "\n",
        "#  plot the result\n",
        "# find the right limitations for the plot\n",
        "if sigma1<sigma2:\n",
        "    xlimits = [middle[0]-5,20];\n",
        "elif sigma1>sigma2:\n",
        "    xlimits = [-4,middle[0]+5];\n",
        "else:\n",
        "  raise Exception('I know Python!') \n",
        "\n",
        "ylimits = -1/2 * np.flip(xlimits) + 8;\n",
        "\n",
        "# plot the line that is defined by mu1 and mu2\n",
        "x_points = xlimits[0] + np.random.rand(100) * (xlimits[1]-xlimits[0]);\n",
        "y_points = -1/2 * x_points + 8;\n",
        "\n",
        "plt.figure(1)\n",
        "plt.plot(mu1[0],mu1[1],'ro')\n",
        "plt.xlim(xlimits)\n",
        "plt.ylim(ylimits)\n",
        "plt.plot(mu2[0],mu2[1],'ro')\n",
        "plt.plot(x_points,y_points,'r-')\n",
        "plt.plot(middle[0],middle[1],'bo')\n",
        "plt.plot(x_circle,y_circle)\n",
        "plt.xlabel('x_1')\n",
        "plt.ylabel('x_2')\n",
        "plt.title('sigma1 = ' + str(sigma1) + ', sigma2 = ' + str(sigma2))\n"
      ],
      "execution_count": null,
      "outputs": [
        {
          "output_type": "execute_result",
          "data": {
            "text/plain": [
              "Text(0.5, 1.0, 'sigma1 = 1, sigma2 = 0.5')"
            ]
          },
          "metadata": {
            "tags": []
          },
          "execution_count": 73
        },
        {
          "output_type": "display_data",
          "data": {
            "image/png": "[encoded data removed]",
            "text/plain": [
              "<Figure size 432x288 with 1 Axes>"
            ]
          },
          "metadata": {
            "tags": [],
            "needs_background": "light"
          }
        }
      ]
    },
    {
      "cell_type": "code",
      "metadata": {
        "id": "vuqf1MgJPPFr",
        "colab_type": "code",
        "colab": {}
      },
      "source": [
        ""
      ],
      "execution_count": null,
      "outputs": []
    }
  ]
}